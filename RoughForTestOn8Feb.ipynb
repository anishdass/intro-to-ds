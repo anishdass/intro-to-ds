{
  "nbformat": 4,
  "nbformat_minor": 0,
  "metadata": {
    "colab": {
      "name": "RoughForTestOn8Feb.ipynb",
      "provenance": [],
      "authorship_tag": "ABX9TyMu4PR9k+DEW46CZcBTJEf0",
      "include_colab_link": true
    },
    "kernelspec": {
      "name": "python3",
      "display_name": "Python 3"
    }
  },
  "cells": [
    {
      "cell_type": "markdown",
      "metadata": {
        "id": "view-in-github",
        "colab_type": "text"
      },
      "source": [
        "<a href=\"https://colab.research.google.com/github/anishdass/intro-to-ds/blob/master/RoughForTestOn8Feb.ipynb\" target=\"_parent\"><img src=\"https://colab.research.google.com/assets/colab-badge.svg\" alt=\"Open In Colab\"/></a>"
      ]
    },
    {
      "cell_type": "code",
      "metadata": {
        "id": "Lpr0NVpMO2YZ",
        "colab_type": "code",
        "outputId": "7ac9a830-71f7-46ad-d854-6d774106f347",
        "colab": {
          "base_uri": "https://localhost:8080/",
          "height": 33
        }
      },
      "source": [
        "#Palindrome\n",
        "\n",
        "def check_pallindrome(num):\n",
        "  str_num=str(num)\n",
        "  len_str_num=len(str_num)\n",
        "  for i in range(len_str_num):\n",
        "    if str_num[i]==str_num[len_str_num-1-i]:\n",
        "      continue\n",
        "    else: return False\n",
        "  return True\n",
        "\n",
        "def pallindrome(num):\n",
        "  for i in range(num,1000*1000):\n",
        "    if(check_pallindrome(i)):\n",
        "      return i\n",
        "\n",
        "print(pallindrome(135))"
      ],
      "execution_count": 0,
      "outputs": [
        {
          "output_type": "stream",
          "text": [
            "141\n"
          ],
          "name": "stdout"
        }
      ]
    },
    {
      "cell_type": "code",
      "metadata": {
        "id": "PL4RjX2_PaLP",
        "colab_type": "code",
        "outputId": "94b832f2-ecaa-45c8-e7cc-ff54fc64699e",
        "colab": {
          "base_uri": "https://localhost:8080/",
          "height": 34
        }
      },
      "source": [
        "#a_scramble\n",
        "\n",
        "def a_scramble(str_1,str_2):\n",
        "  for i in list(str_1):\n",
        "    if i not in list(str_2):\n",
        "      return False\n",
        "    else:\n",
        "      continue\n",
        "  return True\n",
        "a_scramble('anish','Manish')"
      ],
      "execution_count": 7,
      "outputs": [
        {
          "output_type": "execute_result",
          "data": {
            "text/plain": [
              "False"
            ]
          },
          "metadata": {
            "tags": []
          },
          "execution_count": 7
        }
      ]
    },
    {
      "cell_type": "code",
      "metadata": {
        "id": "KqjCb9DCWRm8",
        "colab_type": "code",
        "outputId": "ad8e94a0-0375-4546-fd4a-5d6ebeac8b3b",
        "colab": {
          "base_uri": "https://localhost:8080/",
          "height": 34
        }
      },
      "source": [
        "#Fibonacci\n",
        "\n",
        "def gen_fib(num):\n",
        "  fib=[1,1]\n",
        "  for i in range(num):\n",
        "    fib.append(fib[i]+fib[i+1])\n",
        "  return fib\n",
        "\n",
        "print(gen_fib(10))\n",
        "def check_fib(num):\n",
        "  if num in gen_fib(num):\n",
        "    return True\n",
        "\n",
        "check_fib(4)"
      ],
      "execution_count": 8,
      "outputs": [
        {
          "output_type": "stream",
          "text": [
            "[1, 1, 2, 3, 5, 8, 13, 21, 34, 55, 89, 144]\n"
          ],
          "name": "stdout"
        }
      ]
    },
    {
      "cell_type": "code",
      "metadata": {
        "id": "OV_gjcwJj7ZT",
        "colab_type": "code",
        "outputId": "ed6f00be-e746-478f-9d9a-12ca3e8636d9",
        "colab": {
          "base_uri": "https://localhost:8080/",
          "height": 397
        }
      },
      "source": [
        "#String Compress\n",
        "\n",
        "def compress_word(word):\n",
        "  count=1\n",
        "  str_new=''\n",
        "  list_word=list(word)\n",
        "\n",
        "  for i in range(len(list_word)):\n",
        "    print(i)\n",
        "    if list_word[i]==list_word[i+1]:\n",
        "      count+=1\n",
        "      continue\n",
        "    else:\n",
        "      str_new=str_new+str(list_word[i])+str(count)\n",
        "  \n",
        "  return str_new\n",
        "    \n",
        "compress_word('Anish')"
      ],
      "execution_count": 34,
      "outputs": [
        {
          "output_type": "stream",
          "text": [
            "0\n",
            "1\n",
            "2\n",
            "3\n",
            "4\n"
          ],
          "name": "stdout"
        },
        {
          "output_type": "error",
          "ename": "IndexError",
          "evalue": "ignored",
          "traceback": [
            "\u001b[0;31m---------------------------------------------------------------------------\u001b[0m",
            "\u001b[0;31mIndexError\u001b[0m                                Traceback (most recent call last)",
            "\u001b[0;32m<ipython-input-34-365748fd9492>\u001b[0m in \u001b[0;36m<module>\u001b[0;34m()\u001b[0m\n\u001b[1;32m     15\u001b[0m   \u001b[0;32mreturn\u001b[0m \u001b[0mstr_new\u001b[0m\u001b[0;34m\u001b[0m\u001b[0;34m\u001b[0m\u001b[0m\n\u001b[1;32m     16\u001b[0m \u001b[0;34m\u001b[0m\u001b[0m\n\u001b[0;32m---> 17\u001b[0;31m \u001b[0mcompress_word\u001b[0m\u001b[0;34m(\u001b[0m\u001b[0;34m'Anish'\u001b[0m\u001b[0;34m)\u001b[0m\u001b[0;34m\u001b[0m\u001b[0;34m\u001b[0m\u001b[0m\n\u001b[0m",
            "\u001b[0;32m<ipython-input-34-365748fd9492>\u001b[0m in \u001b[0;36mcompress_word\u001b[0;34m(word)\u001b[0m\n\u001b[1;32m      7\u001b[0m   \u001b[0;32mfor\u001b[0m \u001b[0mi\u001b[0m \u001b[0;32min\u001b[0m \u001b[0mrange\u001b[0m\u001b[0;34m(\u001b[0m\u001b[0mlen\u001b[0m\u001b[0;34m(\u001b[0m\u001b[0mlist_word\u001b[0m\u001b[0;34m)\u001b[0m\u001b[0;34m)\u001b[0m\u001b[0;34m:\u001b[0m\u001b[0;34m\u001b[0m\u001b[0;34m\u001b[0m\u001b[0m\n\u001b[1;32m      8\u001b[0m     \u001b[0mprint\u001b[0m\u001b[0;34m(\u001b[0m\u001b[0mi\u001b[0m\u001b[0;34m)\u001b[0m\u001b[0;34m\u001b[0m\u001b[0;34m\u001b[0m\u001b[0m\n\u001b[0;32m----> 9\u001b[0;31m     \u001b[0;32mif\u001b[0m \u001b[0mlist_word\u001b[0m\u001b[0;34m[\u001b[0m\u001b[0mi\u001b[0m\u001b[0;34m]\u001b[0m\u001b[0;34m==\u001b[0m\u001b[0mlist_word\u001b[0m\u001b[0;34m[\u001b[0m\u001b[0mi\u001b[0m\u001b[0;34m+\u001b[0m\u001b[0;36m1\u001b[0m\u001b[0;34m]\u001b[0m\u001b[0;34m:\u001b[0m\u001b[0;34m\u001b[0m\u001b[0;34m\u001b[0m\u001b[0m\n\u001b[0m\u001b[1;32m     10\u001b[0m       \u001b[0mcount\u001b[0m\u001b[0;34m+=\u001b[0m\u001b[0;36m1\u001b[0m\u001b[0;34m\u001b[0m\u001b[0;34m\u001b[0m\u001b[0m\n\u001b[1;32m     11\u001b[0m       \u001b[0;32mcontinue\u001b[0m\u001b[0;34m\u001b[0m\u001b[0;34m\u001b[0m\u001b[0m\n",
            "\u001b[0;31mIndexError\u001b[0m: list index out of range"
          ]
        }
      ]
    },
    {
      "cell_type": "code",
      "metadata": {
        "id": "MJ5uvh_pmB9N",
        "colab_type": "code",
        "outputId": "73ab1400-fbf7-4a76-d370-55393c76d6e0",
        "colab": {
          "base_uri": "https://localhost:8080/",
          "height": 50
        }
      },
      "source": [
        "#k-distinct\n",
        "distinct_count=0\n",
        "distinct_list=[]\n",
        "\n",
        "def k_distinct(string,k):\n",
        "  word=list(string)\n",
        "  distinct_list=list(set(string.lower()))\n",
        "  print(distinct_list)\n",
        "  len_dist_list=len(distinct_list)\n",
        "  if len_dist_list==k:\n",
        "    return True\n",
        "  return False\n",
        "\n",
        "k_distinct('Ganesan',5)"
      ],
      "execution_count": 63,
      "outputs": [
        {
          "output_type": "stream",
          "text": [
            "['a', 's', 'e', 'n', 'g']\n"
          ],
          "name": "stdout"
        },
        {
          "output_type": "execute_result",
          "data": {
            "text/plain": [
              "True"
            ]
          },
          "metadata": {
            "tags": []
          },
          "execution_count": 63
        }
      ]
    }
  ]
}